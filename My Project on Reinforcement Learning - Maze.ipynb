{
 "cells": [
  {
   "cell_type": "markdown",
   "id": "0d4f255b",
   "metadata": {},
   "source": [
    "# Import Library"
   ]
  },
  {
   "cell_type": "code",
   "execution_count": 2,
   "id": "4f42f71a",
   "metadata": {},
   "outputs": [],
   "source": [
    "import numpy as np\n",
    "import random\n",
    "import matplotlib.pyplot as plt\n",
    "import seaborn as sns"
   ]
  },
  {
   "cell_type": "markdown",
   "id": "4f882a25",
   "metadata": {},
   "source": [
    "# State Transition Probability"
   ]
  },
  {
   "cell_type": "code",
   "execution_count": 4,
   "id": "c19c665e",
   "metadata": {},
   "outputs": [],
   "source": [
    "# new_state, reward, state, action\n",
    "state_transition_probability = np.zeros((12,4,3),dtype=int)+-1\n",
    "state_transition_probability\n",
    "\n",
    "diamond =10\n",
    "fire = -10\n",
    "# action: 0-left, 1-right, 2-up, 3-down\n",
    "\n",
    "for state,_ in enumerate(state_transition_probability):\n",
    "\n",
    "    \n",
    "    \n",
    "    for action,__ in enumerate(state_transition_probability[state]):\n",
    "        state_transition_probability[state,:,2]=state\n",
    "        \n",
    "        if action==0:\n",
    "            if state==0 or state==4 or state==6 or state==8 or state==3 or state==7 or state==5:\n",
    "                state_transition_probability[state,action,0]=state_transition_probability[state,action,2]\n",
    "            if state==1 or state==2 or state==9 or state==10 or state==11:\n",
    "                state_transition_probability[state,action,0]=state_transition_probability[state,action,2]-1\n",
    "            \n",
    "         \n",
    "            \n",
    "            \n",
    "        elif action==1:\n",
    "            if state==0 or state==1 or state==2 or state==8 or state==9 or state==10 or state==6:\n",
    "                state_transition_probability[state,action,0]=state_transition_probability[state,action,2]+1\n",
    "            if state==3 or state==4 or state==11 or state==7 or state==5:\n",
    "                state_transition_probability[state,action,0]=state_transition_probability[state,action,2]\n",
    "            if state==2:\n",
    "                state_transition_probability[state,action,1]=diamond\n",
    "            elif state==6:\n",
    "                state_transition_probability[state,action,1]=fire\n",
    "                \n",
    "        \n",
    "        elif action==2:\n",
    "            if state==0 or state==1 or state==2 or state==3 or state==5 or state==7 or state==9:\n",
    "                state_transition_probability[state,action,0]=state_transition_probability[state,action,2]\n",
    "            if state==4 or state==6 or state==8 or state==10 or state==11:\n",
    "                state_transition_probability[state,action,0]=state_transition_probability[state,action,2]-4\n",
    "            if state==11:\n",
    "                state_transition_probability[state,action,1]=fire         \n",
    "        else:\n",
    "            if state==0 or state==2 or state==4 or state==6:\n",
    "                state_transition_probability[state,action,0]=state_transition_probability[state,action,2]+4\n",
    "            if state==1 or state==3 or state==5 or state==7 or state==8 or state==9 or state==10 or state==11:\n",
    "                state_transition_probability[state,action,0]=state_transition_probability[state,action,2]\n",
    "            \n",
    "                \n"
   ]
  },
  {
   "cell_type": "markdown",
   "id": "6fc9108e",
   "metadata": {},
   "source": [
    "# Policy Evaluation and Policy Improvement"
   ]
  },
  {
   "cell_type": "code",
   "execution_count": 6,
   "id": "f16b85cf",
   "metadata": {},
   "outputs": [],
   "source": [
    "def policy_evaluation(gamma,theta,Value_function,policy,state_transition_probability,value_range=(-1e3, 1e3)):\n",
    "    \n",
    "    while True:\n",
    "        delta = 0\n",
    "        for state,_ in enumerate(state_transition_probability):\n",
    "            v= V[state]\n",
    "            if state==3 or state==7 or state==5:\n",
    "                continue\n",
    "            else:\n",
    "                \n",
    "                new_value=sum([\n",
    "                    policy[state,action]*(new_state[1]+gamma*V[(new_state[0])]) for action, new_state in enumerate(state_transition_probability[state])\n",
    "                ])\n",
    "            # Clip the new value to avoid overflow\n",
    "            new_value = np.clip(new_value, *value_range)\n",
    "            V[state] =new_value\n",
    "            delta=max(delta,abs(v-V[state]))\n",
    "        if delta < theta:\n",
    "            break\n",
    "    \n",
    "    return V\n",
    "\n",
    "def policy_improvement(policy,gamma, value_function, state_transition_probability,num_states=12):\n",
    "    policy_stable = True\n",
    "    \n",
    "    for state in range(num_states):\n",
    "        \n",
    "            \n",
    "        old_action = np.argmax(policy[state])\n",
    "        \n",
    "        if state==3 or state==7 or state==5:\n",
    "            continue\n",
    "        else:\n",
    "            \n",
    "\n",
    "            best_value = np.argmax([\n",
    "                policy[state,action]*(new_state[1]+ gamma*V[(new_state[0])])\n",
    "                for action, new_state in enumerate(state_transition_probability[state])\n",
    "            ])\n",
    "            \n",
    "        new_policy = np.zeros_like(policy[state])\n",
    "        new_policy[best_value]=1\n",
    "        policy[state] = new_policy\n",
    "        #policy[state][best_value]=1\n",
    "\n",
    "        if old_action != best_value:\n",
    "            policy_stable = False\n",
    "  \n",
    "    return policy, policy_stable\n",
    "\n",
    "\n",
    "\n"
   ]
  },
  {
   "cell_type": "markdown",
   "id": "e9e9b023",
   "metadata": {},
   "source": [
    "# Initialize all the Parameters"
   ]
  },
  {
   "cell_type": "code",
   "execution_count": 8,
   "id": "cca44255",
   "metadata": {},
   "outputs": [],
   "source": [
    "num_states = 12\n",
    "num_actions=4\n",
    "gamma = 0.9\n",
    "theta = 0.01\n",
    "state_transition_probability\n",
    "V = np.random.randn(12)*5\n",
    "V[3]=0\n",
    "V[5]=np.nan\n",
    "V[7]=0\n",
    "policy = np.ones((num_states,num_actions))/num_actions\n",
    "policy[3]=policy[5]=policy[7]=0"
   ]
  },
  {
   "cell_type": "code",
   "execution_count": 9,
   "id": "e20ebcaa",
   "metadata": {},
   "outputs": [
    {
     "name": "stdout",
     "output_type": "stream",
     "text": [
      "optimal policy is:  \n",
      " [[0. 1. 0. 0.]\n",
      " [0. 1. 0. 0.]\n",
      " [0. 1. 0. 0.]\n",
      " [0. 0. 0. 0.]\n",
      " [0. 0. 1. 0.]\n",
      " [0. 0. 0. 0.]\n",
      " [0. 0. 1. 0.]\n",
      " [0. 0. 0. 0.]\n",
      " [0. 0. 1. 0.]\n",
      " [0. 1. 0. 0.]\n",
      " [0. 0. 1. 0.]\n",
      " [1. 0. 0. 0.]]\n",
      "\n",
      "\n",
      "optimal action value is:  \n",
      " [ 6.2    8.    10.     0.     4.58     nan  8.     0.     3.122  4.58\n",
      "  6.2    4.58 ]\n",
      "\n",
      "\n",
      "stability: True\n"
     ]
    }
   ],
   "source": [
    "policy_stable=False\n",
    "i = 0\n",
    "while not policy_stable:\n",
    "    i+=1\n",
    "    V = policy_evaluation(gamma,theta,V,policy,state_transition_probability)\n",
    "    policy, policy_stable = policy_improvement(policy,gamma, V, state_transition_probability)\n",
    "\n",
    "print('optimal policy is: ','\\n', policy)\n",
    "print('\\n')\n",
    "print('optimal action value is: ','\\n', V)\n",
    "print('\\n')\n",
    "print('stability:', policy_stable)"
   ]
  },
  {
   "cell_type": "code",
   "execution_count": 10,
   "id": "31d7cd38",
   "metadata": {},
   "outputs": [
    {
     "data": {
      "image/png": "[encoded data removed]",
      "text/plain": [
       "<Figure size 640x480 with 1 Axes>"
      ]
     },
     "metadata": {},
     "output_type": "display_data"
    }
   ],
   "source": [
    "sns.heatmap(V.reshape(3,4), annot=True, lw=.9,fmt='.2f',xticklabels='',yticklabels='',cbar=None);"
   ]
  },
  {
   "cell_type": "code",
   "execution_count": null,
   "id": "b49417d5",
   "metadata": {},
   "outputs": [],
   "source": []
  },
  {
   "cell_type": "code",
   "execution_count": null,
   "id": "a0406979",
   "metadata": {},
   "outputs": [],
   "source": []
  },
  {
   "cell_type": "code",
   "execution_count": null,
   "id": "2938c1b8",
   "metadata": {},
   "outputs": [],
   "source": []
  }
 ],
 "metadata": {
  "kernelspec": {
   "display_name": "Python 3 (ipykernel)",
   "language": "python",
   "name": "python3"
  },
  "language_info": {
   "codemirror_mode": {
    "name": "ipython",
    "version": 3
   },
   "file_extension": ".py",
   "mimetype": "text/x-python",
   "name": "python",
   "nbconvert_exporter": "python",
   "pygments_lexer": "ipython3",
   "version": "3.12.3"
  }
 },
 "nbformat": 4,
 "nbformat_minor": 5
}
