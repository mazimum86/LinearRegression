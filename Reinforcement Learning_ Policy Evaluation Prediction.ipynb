{
 "cells": [
  {
   "cell_type": "code",
   "execution_count": 2,
   "id": "dd3ec985",
   "metadata": {},
   "outputs": [],
   "source": [
    "import random\n",
    "import numpy as np\n",
    "import matplotlib.pyplot as plt\n",
    "import seaborn as sns"
   ]
  },
  {
   "cell_type": "code",
   "execution_count": 3,
   "id": "645e901f",
   "metadata": {},
   "outputs": [
    {
     "data": {
      "text/plain": [
       "[]"
      ]
     },
     "execution_count": 3,
     "metadata": {},
     "output_type": "execute_result"
    }
   ],
   "source": [
    "A = ['Right','Left','Up','Down']\n",
    "S = list(range(16))\n",
    "R = -1\n",
    "P1=[]\n",
    "for s in S:\n",
    "    P = []\n",
    "    if not (s == 0 or s==15):\n",
    "        for a in A:\n",
    "            if a == A[0]:\n",
    "                \n",
    "                s_new = s+1\n",
    "            elif a == A[1]:\n",
    "                s_new = s-1\n",
    "            elif a == A[2]:\n",
    "                s_new = s -4\n",
    "            else:\n",
    "                s_new = s + 4\n",
    "\n",
    "            if (a == A[0] and s in [3,7,11,15] or\n",
    "                a == A[1] and s in [0,4,8,12] or \n",
    "                a == A[2] and s in [0,1,2,3] or \n",
    "                a == A[3] and s in [12,13,14,15]):\n",
    "                \n",
    "                pass\n",
    "            else:\n",
    "                item=[s_new,R,s,a]\n",
    "                if item[0]==15 or item[0]==0:\n",
    "                    item[1]=0\n",
    "                    \n",
    "                P.append(item)\n",
    "                \n",
    "    P1.append(P)\n",
    "\n",
    "\n",
    "P1.pop(0)\n",
    "P1.pop(-1)"
   ]
  },
  {
   "cell_type": "code",
   "execution_count": 4,
   "id": "0befcc0a",
   "metadata": {},
   "outputs": [],
   "source": [
    "states = len(P1)+2\n",
    "num_actions =4\n",
    "# Initialize the policy arbitrarily (uniform random policy)\n",
    "policy = [[1/4]*len(a) for a in P1 ]\n",
    "\n",
    "\n",
    "#policy = [1/4]* (states)\n",
    "V = [0] * (states)\n",
    "theta = .001\n",
    "gamma = 0.9\n",
    "    \n",
    "V[1:-1] = [random.random() for x in V[1:-1]]\n",
    "\n",
    "def policy_evaluation(policy,V, P1,gamma, theta):\n",
    "\n",
    "    \n",
    "    iteration = 0\n",
    "    while True:\n",
    "        i = 0\n",
    "        delta = 0\n",
    "        \n",
    "        for s0 in P1:\n",
    "            i+=1\n",
    "            v = V[i]\n",
    "            V[i] =sum([policy[P1.index(s0)][s0.index(x)]*(x[1]+gamma*V[x[0]]) for x in s0])\n",
    "         \n",
    "        delta = max(delta, abs(v- V[i]) )\n",
    "        if delta < theta:\n",
    "            break\n",
    "        #print(delta)\n",
    "      \n",
    "    return V\n",
    "        \n",
    "def policy_improvement(policy,V, P1,gamma):\n",
    "    policy_stable = True\n",
    "    for s in range(states):\n",
    "        if s == 0 or s == 15:  # Skip terminal states\n",
    "            continue\n",
    "            \n",
    "        old_action = np.argmax(policy[s-1])\n",
    "        action_values = [(x[1]+gamma*V[x[0]]) for x in P1[s-1]]\n",
    "        best_action = np.argmax(action_values)\n",
    "        policy[s-1] = [0] * len(action_values)\n",
    "        policy[s-1][best_action]=1\n",
    "        if old_action != best_action:\n",
    "            policy_stable = False\n",
    "    return policy, policy_stable"
   ]
  },
  {
   "cell_type": "code",
   "execution_count": 5,
   "id": "20798823",
   "metadata": {},
   "outputs": [
    {
     "name": "stdout",
     "output_type": "stream",
     "text": [
      "Optimal value function: [0, 0.0, -1.0, -1.9, 0.0, -1.0, -1.9, -1.0, -1.0, -1.9, -1.0, 0.0, -1.9, -1.0, 0.0, 0]\n",
      "Optimal policy: [[0, 1, 0], [0, 1, 0], [1, 0], [0, 1, 0], [0, 1, 0, 0], [1, 0, 0, 0], [0, 0, 1], [0, 1, 0], [1, 0, 0, 0], [1, 0, 0, 0], [0, 0, 1], [1, 0], [1, 0, 0], [1, 0, 0]]\n"
     ]
    }
   ],
   "source": [
    "# Policy iteration\n",
    "while True:\n",
    "    V = policy_evaluation(policy, V, P1, gamma, theta)\n",
    "    policy, policy_stable = policy_improvement(policy, V, P1, gamma)\n",
    "    if policy_stable:\n",
    "        break\n",
    "\n",
    "print(\"Optimal value function:\", V)\n",
    "print(\"Optimal policy:\", policy)"
   ]
  },
  {
   "cell_type": "code",
   "execution_count": 6,
   "id": "2e23b6c3",
   "metadata": {},
   "outputs": [],
   "source": [
    "action_policy = []\n",
    "for s0 in P1:\n",
    "    a = []\n",
    "\n",
    "    for state1,reward,state0,action in s0:\n",
    "        a.append(round(V[state1],2))\n",
    "\n",
    "    set_actions_indices=[i for i,j in enumerate(a) if j==max(a)] \n",
    "    action_policy.append([s0[x][-1] for x in set_actions_indices])\n",
    "\n",
    "    \n",
    "\n",
    "\n",
    "        \n",
    "        "
   ]
  },
  {
   "cell_type": "code",
   "execution_count": 7,
   "id": "8792d04d",
   "metadata": {},
   "outputs": [
    {
     "data": {
      "text/plain": [
       "[0]"
      ]
     },
     "execution_count": 7,
     "metadata": {},
     "output_type": "execute_result"
    }
   ],
   "source": [
    "[i for i,j in enumerate(a) if j==max(a)] "
   ]
  },
  {
   "cell_type": "code",
   "execution_count": 8,
   "id": "7569355b",
   "metadata": {},
   "outputs": [
    {
     "data": {
      "image/png": "[encoded data removed]",
      "text/plain": [
       "<Figure size 640x480 with 1 Axes>"
      ]
     },
     "metadata": {},
     "output_type": "display_data"
    }
   ],
   "source": [
    "v_array=np.array(V).reshape(4,4)\n",
    "sns.heatmap(v_array,annot=True,fmt='.2f',cbar=False,lw=1,linecolor='black');"
   ]
  },
  {
   "cell_type": "code",
   "execution_count": 9,
   "id": "cb7a125f",
   "metadata": {},
   "outputs": [
    {
     "name": "stdout",
     "output_type": "stream",
     "text": [
      "1 : ['Left']\n",
      "2 : ['Left']\n",
      "3 : ['Left', 'Down']\n",
      "4 : ['Up']\n",
      "5 : ['Left', 'Up']\n",
      "6 : ['Right', 'Left', 'Up', 'Down']\n",
      "7 : ['Down']\n",
      "8 : ['Up']\n",
      "9 : ['Right', 'Left', 'Up', 'Down']\n",
      "10 : ['Right', 'Down']\n",
      "11 : ['Down']\n",
      "12 : ['Right', 'Up']\n",
      "13 : ['Right']\n",
      "14 : ['Right']\n"
     ]
    }
   ],
   "source": [
    "i=0\n",
    "for _ in action_policy:\n",
    "    i+=1\n",
    "    print(i,':',_ )"
   ]
  },
  {
   "cell_type": "markdown",
   "id": "5005c220",
   "metadata": {},
   "source": [
    "# Confirmation"
   ]
  },
  {
   "cell_type": "code",
   "execution_count": 11,
   "id": "3589f72b",
   "metadata": {},
   "outputs": [
    {
     "data": {
      "text/plain": [
       "-1.855"
      ]
     },
     "execution_count": 11,
     "metadata": {},
     "output_type": "execute_result"
    }
   ],
   "source": [
    "#v[1,1]\n",
    "\n",
    "1/4*((-1+v_array[1,0]*.9)+(-1+v_array[0,1]*.9)+(-1+v_array[2,1]*.9)+(-1+v_array[1,2]*.9))"
   ]
  },
  {
   "cell_type": "code",
   "execution_count": 12,
   "id": "7fdecc86",
   "metadata": {
    "scrolled": true
   },
   "outputs": [
    {
     "data": {
      "text/plain": [
       "-1.9"
      ]
     },
     "execution_count": 12,
     "metadata": {},
     "output_type": "execute_result"
    }
   ],
   "source": [
    "#v[1,2]\n",
    "\n",
    "1/4*((-1+v_array[1,1]*.9)+(-1+v_array[1,3]*.9)+(-1+v_array[0,2]*.9)+(-1+v_array[2,2]*.9))"
   ]
  },
  {
   "cell_type": "code",
   "execution_count": 13,
   "id": "58493a14",
   "metadata": {},
   "outputs": [
    {
     "data": {
      "text/plain": [
       "-1.605"
      ]
     },
     "execution_count": 13,
     "metadata": {},
     "output_type": "execute_result"
    }
   ],
   "source": [
    "#v[3,1]\n",
    "\n",
    "1/4*((-1+v_array[3,0]*.9)+(-1+v_array[3,2]*.9)+(-1+v_array[2,1]*.9)+ 0) #(-1+v_array[2,2]*.9))"
   ]
  },
  {
   "cell_type": "code",
   "execution_count": 14,
   "id": "d7c369cd",
   "metadata": {},
   "outputs": [
    {
     "data": {
      "text/plain": [
       "-0.95"
      ]
     },
     "execution_count": 14,
     "metadata": {},
     "output_type": "execute_result"
    }
   ],
   "source": [
    "#v[0,1]\n",
    "\n",
    "1/4*((0 +v_array[0,0]*.9)+(-1+v_array[0,2]*.9)+(-1+v_array[1,1]*.9)+ 0) #(-1+v_array[2,2]*.9))"
   ]
  },
  {
   "cell_type": "code",
   "execution_count": 15,
   "id": "aeaef99b",
   "metadata": {},
   "outputs": [
    {
     "data": {
      "text/plain": [
       "(10, -1, 14, 'Up')"
      ]
     },
     "execution_count": 15,
     "metadata": {},
     "output_type": "execute_result"
    }
   ],
   "source": [
    "state1,reward,state0,action"
   ]
  },
  {
   "cell_type": "code",
   "execution_count": 16,
   "id": "a90ef28e",
   "metadata": {},
   "outputs": [
    {
     "data": {
      "text/plain": [
       "-2.38"
      ]
     },
     "execution_count": 16,
     "metadata": {},
     "output_type": "execute_result"
    }
   ],
   "source": [
    "-2.38"
   ]
  },
  {
   "cell_type": "code",
   "execution_count": 17,
   "id": "904b8299",
   "metadata": {},
   "outputs": [
    {
     "ename": "SyntaxError",
     "evalue": "invalid syntax (3187445248.py, line 1)",
     "output_type": "error",
     "traceback": [
      "\u001b[1;36m  Cell \u001b[1;32mIn[17], line 1\u001b[1;36m\u001b[0m\n\u001b[1;33m    ======================================================\u001b[0m\n\u001b[1;37m    ^\u001b[0m\n\u001b[1;31mSyntaxError\u001b[0m\u001b[1;31m:\u001b[0m invalid syntax\n"
     ]
    }
   ],
   "source": [
    "======================================================"
   ]
  },
  {
   "cell_type": "code",
   "execution_count": null,
   "id": "19f9ed6a",
   "metadata": {},
   "outputs": [],
   "source": [
    "evaluation1 = policy_evaluation(policy,V, P1,gamma, theta)"
   ]
  },
  {
   "cell_type": "code",
   "execution_count": null,
   "id": "bdf01fb3",
   "metadata": {},
   "outputs": [],
   "source": [
    "v_array=np.array(evaluation1).reshape(4,4)\n",
    "sns.heatmap(v_array,annot=True,fmt='.2f',cbar=False);"
   ]
  },
  {
   "cell_type": "code",
   "execution_count": null,
   "id": "55f95f3a",
   "metadata": {},
   "outputs": [],
   "source": []
  },
  {
   "cell_type": "code",
   "execution_count": null,
   "id": "b3306b19",
   "metadata": {},
   "outputs": [],
   "source": [
    "%%time\n",
    "\n",
    "pi =1/4\n",
    "teta = 0.008065\n",
    "V = [0]*16\n",
    "gamma =.9\n",
    "\n",
    "for i in range(len(P1)):\n",
    "    V[i+1]= random.random()\n",
    "\n",
    "while True:   \n",
    "    \n",
    "    error_difference = 0\n",
    "    \n",
    "    for s0 in range(len(P1)):\n",
    "        \n",
    "        v = V[s0+1]\n",
    "        \n",
    "        new_value = 0\n",
    "        \n",
    "        for state1,reward,state0,action in P1[s0]:  \n",
    "            \n",
    "            new_value+= pi*(reward+ gamma *V[state1])\n",
    "            \n",
    "        V[s0+1]=new_value  \n",
    "        \n",
    "        error_difference = max(error_difference,abs(v-V[s0+1]))\n",
    "    if error_difference < teta:\n",
    "        break\n",
    "    print(error_difference)\n"
   ]
  },
  {
   "cell_type": "markdown",
   "id": "7b85b77f",
   "metadata": {},
   "source": [
    "========================================\n",
    "# MAZE with reward at state 4\n",
    "======================================="
   ]
  },
  {
   "cell_type": "code",
   "execution_count": null,
   "id": "027d28cb",
   "metadata": {},
   "outputs": [],
   "source": [
    "transition_prob = np.array(np.zeros(400),dtype=int).reshape(25,4,4)\n",
    "transition_prob[0]"
   ]
  },
  {
   "cell_type": "code",
   "execution_count": null,
   "id": "a8ecff61",
   "metadata": {},
   "outputs": [],
   "source": [
    "# S`,R,S,A\n",
    "i = 0\n",
    "transition_prob = np.array(np.zeros(400),dtype=int).reshape(25,4,4)\n",
    "\n",
    "for state in range(len(transition_prob)):\n",
    "    \n",
    "    transition_prob[state][:,2]=i\n",
    "    transition_prob[state][:,1]=-1\n",
    "    j=0\n",
    "    for action in transition_prob[state]:\n",
    "        action[3]=j\n",
    "        if state==4:\n",
    "            transition_prob[state][:,1]=0\n",
    "        if state==3 and action[3]==1:\n",
    "            transition_prob[state][1,1]=0\n",
    "            \n",
    "        j+=1\n",
    "    i+=1\n",
    "    transition_prob[state][:,0] = transition_prob[state][:,2]\n",
    "    \n",
    "    if state==0 or state ==9:\n",
    "        transition_prob[state][3][0]=transition_prob[state][3][2]+5\n",
    "    if state==1 or state==11 or state==21:\n",
    "        transition_prob[state][1][0]=transition_prob[state][1][2]+1\n",
    "    if state==2 or state==6 or state==16 or state==17 or state==22:\n",
    "        transition_prob[state][0][0]=transition_prob[state][0][2]-1\n",
    "        transition_prob[state][1][0]=transition_prob[state][1][2]+1\n",
    "    if state==3 or state == 18:\n",
    "        transition_prob[state][0][0]=transition_prob[state][0][2]-1\n",
    "        transition_prob[state][1][0]=transition_prob[state][1][2]+1\n",
    "        transition_prob[state][3][0]=transition_prob[state][3][2]+5\n",
    "    if state==5 or state==15:\n",
    "        transition_prob[state][2][0]=transition_prob[state][2][2]-5\n",
    "        transition_prob[state][1][0]=transition_prob[state][1][2]+1\n",
    "        transition_prob[state][3][0]=transition_prob[state][3][2]+5\n",
    "    if state==7:\n",
    "        transition_prob[state][0][0]=transition_prob[state][0][2]-1\n",
    "        transition_prob[state][3][0]=transition_prob[state][3][2]+5\n",
    "    if state==8 or state==10 or state==14:\n",
    "        transition_prob[state][2][0]=transition_prob[state][2][2]-5\n",
    "        transition_prob[state][3][0]=transition_prob[state][3][2]+5\n",
    "    if state==12 or state==23:\n",
    "        transition_prob[state][2][0]=transition_prob[state][2][2]-5\n",
    "        transition_prob[state][0][0]=transition_prob[state][0][2]-1\n",
    "        transition_prob[state][1][0]=transition_prob[state][1][2]+1\n",
    "    if state==13 or state==19:\n",
    "        transition_prob[state][2][0]=transition_prob[state][2][2]-5\n",
    "        transition_prob[state][0][0]=transition_prob[state][0][2]-1\n",
    "    if state==20:\n",
    "        transition_prob[state][2][0]=transition_prob[state][2][2]-5\n",
    "    if state==24:\n",
    "        transition_prob[state][0][0]=transition_prob[state][0][2]-1\n",
    "    \n",
    "        "
   ]
  },
  {
   "cell_type": "code",
   "execution_count": null,
   "id": "0d0004f2",
   "metadata": {},
   "outputs": [],
   "source": [
    "policy = np.zeros(100).reshape(25,4)+.25\n",
    "policy[4,:]=0\n",
    "policy"
   ]
  },
  {
   "cell_type": "code",
   "execution_count": null,
   "id": "38d1edc3",
   "metadata": {},
   "outputs": [],
   "source": [
    "num_states = 25\n",
    "V= [0]*num_states\n",
    "V= [2*random.random() for x in V]\n",
    "gamma = .9\n",
    "theta = 0.01\n",
    "transition_prob \n",
    "\n",
    "def policy_evaluation(policy,gamma,theta,V,transition_prob):\n",
    "\n",
    "    while True:\n",
    "  \n",
    "        delta = 0\n",
    "        for state in range(len(policy)):\n",
    "            v= V[state]\n",
    "            if state==4:\n",
    "                V[state]=0\n",
    "            else:\n",
    "                V[state]=sum([(policy[state][actions]*(transition_prob[state][actions][1]+gamma*V[(transition_prob[state][actions][0])])) \n",
    "                              for actions in range(len(transition_prob[state]))])\n",
    "    \n",
    "            delta = max(delta,abs(v-V[state]))\n",
    "        if delta<theta:\n",
    "            break\n",
    "    return V\n",
    "\n",
    "def policy_improvement(policy,V,transition_prob,gamma):\n",
    "    policy_stable = True\n",
    "    for state in range(num_states):\n",
    "        \n",
    "        old_action = np.argmax(policy[state])\n",
    "        action_values = [(x[1]+gamma*V[x[0]]) for x in transition_prob[state]]\n",
    "        best_action = np.argmax(action_values)\n",
    "        new_policy = np.zeros(num_actions)\n",
    "        new_policy[best_action]=1\n",
    "        policy[state]=new_policy\n",
    "        if old_action != best_action:\n",
    "            policy_stable = False\n",
    "    return policy, policy_stable"
   ]
  },
  {
   "cell_type": "code",
   "execution_count": null,
   "id": "63760caa",
   "metadata": {},
   "outputs": [],
   "source": [
    "# Policy iteration\n",
    "while True:\n",
    "    V = policy_evaluation(policy,gamma,theta,V,transition_prob)\n",
    "    policy, policy_stable = policy_improvement(policy, V, transition_prob, gamma)\n",
    "    if policy_stable:\n",
    "        break\n",
    "\n",
    "print(\"Optimal value function:\", V)\n",
    "print(\"Optimal policy:\", policy)"
   ]
  },
  {
   "cell_type": "code",
   "execution_count": null,
   "id": "fa5185ce",
   "metadata": {},
   "outputs": [],
   "source": [
    "evaluated_v = policy_evaluation(policy,gamma,theta,V,transition_prob)"
   ]
  },
  {
   "cell_type": "code",
   "execution_count": null,
   "id": "bfda91a6",
   "metadata": {},
   "outputs": [],
   "source": [
    "v_array=np.array(V).reshape(5,5)\n",
    "sns.heatmap(v_array,annot=True,fmt='.2f',cbar=False);"
   ]
  },
  {
   "cell_type": "code",
   "execution_count": null,
   "id": "a143d7d1",
   "metadata": {},
   "outputs": [],
   "source": []
  },
  {
   "cell_type": "code",
   "execution_count": null,
   "id": "6906aa30",
   "metadata": {},
   "outputs": [],
   "source": [
    "v_array=np.array(V).reshape(5,5)\n",
    "sns.heatmap(v_array,annot=True,fmt='.2f',cbar=False);"
   ]
  },
  {
   "cell_type": "code",
   "execution_count": null,
   "id": "b7aef39f",
   "metadata": {},
   "outputs": [],
   "source": []
  },
  {
   "cell_type": "code",
   "execution_count": null,
   "id": "c81b546b",
   "metadata": {},
   "outputs": [],
   "source": []
  },
  {
   "cell_type": "code",
   "execution_count": null,
   "id": "3714b286",
   "metadata": {},
   "outputs": [],
   "source": []
  },
  {
   "cell_type": "code",
   "execution_count": null,
   "id": "101e706c",
   "metadata": {},
   "outputs": [],
   "source": []
  },
  {
   "cell_type": "code",
   "execution_count": null,
   "id": "da89a801",
   "metadata": {},
   "outputs": [],
   "source": []
  },
  {
   "cell_type": "code",
   "execution_count": null,
   "id": "c799cc58",
   "metadata": {},
   "outputs": [],
   "source": []
  },
  {
   "cell_type": "code",
   "execution_count": null,
   "id": "c9a32793",
   "metadata": {},
   "outputs": [],
   "source": []
  },
  {
   "cell_type": "code",
   "execution_count": null,
   "id": "d3d48ac3",
   "metadata": {},
   "outputs": [],
   "source": []
  },
  {
   "cell_type": "code",
   "execution_count": null,
   "id": "a4437ba8",
   "metadata": {},
   "outputs": [],
   "source": []
  },
  {
   "cell_type": "code",
   "execution_count": null,
   "id": "532c2567",
   "metadata": {},
   "outputs": [],
   "source": []
  },
  {
   "cell_type": "code",
   "execution_count": null,
   "id": "d4f399da",
   "metadata": {},
   "outputs": [],
   "source": []
  },
  {
   "cell_type": "code",
   "execution_count": null,
   "id": "a2083674",
   "metadata": {},
   "outputs": [],
   "source": []
  },
  {
   "cell_type": "code",
   "execution_count": null,
   "id": "6b759dc0",
   "metadata": {},
   "outputs": [],
   "source": [
    "import numpy as np\n",
    "\n",
    "# Initialize transition probabilities\n",
    "num_states = 25\n",
    "num_actions = 4\n",
    "transition_prob = np.zeros((num_states, num_actions, 4), dtype=int)\n",
    "\n",
    "# Set the transition probabilities for each state\n",
    "i = 0\n",
    "for state in range(num_states):\n",
    "    # Default assignments\n",
    "    transition_prob[state][:, 2] = i\n",
    "    transition_prob[state][:, 1] = -1  # Default reward\n",
    "    j = 0\n",
    "    \n",
    "    for action in transition_prob[state]:\n",
    "        action[3] = j  # Action index\n",
    "        if state == 4:\n",
    "            transition_prob[state][:, 1] = 0  # Zero reward for state 4\n",
    "        if state == 3 and action[3] == 1:\n",
    "            transition_prob[state][1, 1] = 0  # Specific condition for state 3, action 1\n",
    "        j += 1\n",
    "    \n",
    "    i += 1\n",
    "    transition_prob[state][:, 0] = transition_prob[state][:, 2]  # Set next state to current state index\n",
    "    \n",
    "    # Special transition rules\n",
    "    if state == 0 or state == 9:\n",
    "        transition_prob[state][3][0] = transition_prob[state][3][2] + 5\n",
    "    if state in [1, 11, 21]:\n",
    "        transition_prob[state][1][0] = transition_prob[state][1][2] + 1\n",
    "    if state in [2, 6, 16, 17, 22]:\n",
    "        transition_prob[state][0][0] = transition_prob[state][0][2] - 1\n",
    "        transition_prob[state][1][0] = transition_prob[state][1][2] + 1\n",
    "    if state == 3 or state == 18:\n",
    "        transition_prob[state][0][0] = transition_prob[state][0][2] - 1\n",
    "        transition_prob[state][1][0] = transition_prob[state][1][2] + 1\n",
    "        transition_prob[state][3][0] = transition_prob[state][3][2] + 5\n",
    "    if state in [5, 15]:\n",
    "        transition_prob[state][2][0] = transition_prob[state][2][2] - 5\n",
    "        transition_prob[state][1][0] = transition_prob[state][1][2] + 1\n",
    "        transition_prob[state][3][0] = transition_prob[state][3][2] + 5\n",
    "    if state == 7:\n",
    "        transition_prob[state][0][0] = transition_prob[state][0][2] - 1\n",
    "        transition_prob[state][3][0] = transition_prob[state][3][2] + 5\n",
    "    if state in [8, 10, 14]:\n",
    "        transition_prob[state][2][0] = transition_prob[state][2][2] - 5\n",
    "        transition_prob[state][3][0] = transition_prob[state][3][2] + 5\n",
    "    if state in [12, 23]:\n",
    "        transition_prob[state][2][0] = transition_prob[state][2][2] - 5\n",
    "        transition_prob[state][0][0] = transition_prob[state][0][2] - 1\n",
    "        transition_prob[state][1][0] = transition_prob[state][1][2] + 1\n",
    "    if state in [13, 19]:\n",
    "        transition_prob[state][2][0] = transition_prob[state][2][2] - 5\n",
    "        transition_prob[state][0][0] = transition_prob[state][0][2] - 1\n",
    "    if state == 20:\n",
    "        transition_prob[state][2][0] = transition_prob[state][2][2] - 5\n",
    "    if state == 24:\n",
    "        transition_prob[state][0][0] = transition_prob[state][0][2] - 1\n"
   ]
  },
  {
   "cell_type": "code",
   "execution_count": null,
   "id": "51116903",
   "metadata": {},
   "outputs": [],
   "source": [
    "import numpy as np\n",
    "import random\n",
    "\n",
    "# Define number of states and initialize value function\n",
    "num_states = 25\n",
    "num_actions = 4\n",
    "V = np.random.rand(num_states) * 2  # Initialize V with random values between 0 and 2\n",
    "\n",
    "# Define gamma (discount factor) and theta (threshold for stopping criteria)\n",
    "gamma = 0.9\n",
    "theta = 0.001\n",
    "\n",
    "# Initialize policy with equal probabilities for each action\n",
    "policy = np.ones((num_states, num_actions)) / num_actions\n",
    "\n",
    "def policy_evaluation(policy, gamma, theta, V, transition_prob):\n",
    "    while True:\n",
    "        delta = 0\n",
    "        for state in range(num_states):\n",
    "            v = V[state]\n",
    "            if state == 4:\n",
    "                V[state] = 0\n",
    "            else:\n",
    "                V[state] = sum(\n",
    "                    policy[state][action] * (reward + gamma * V[next_state])\n",
    "                    for action, (next_state, reward, _, _) in enumerate(transition_prob[state])\n",
    "                )\n",
    "            delta = max(delta, abs(v - V[state]))\n",
    "        if delta < theta:\n",
    "            break\n",
    "    return V\n",
    "\n",
    "def policy_improvement(policy, V, transition_prob, gamma):\n",
    "    policy_stable = True\n",
    "    for state in range(num_states):\n",
    "        old_action = np.argmax(policy[state])\n",
    "        action_values = [\n",
    "            reward + gamma * V[next_state]\n",
    "            for next_state, reward, _, _ in transition_prob[state]\n",
    "        ]\n",
    "        best_action = np.argmax(action_values)\n",
    "        policy[state] = np.eye(num_actions)[best_action]\n",
    "        if old_action != best_action:\n",
    "            policy_stable = False\n",
    "    return policy, policy_stable\n",
    "\n",
    "# Example of running policy iteration\n",
    "V = policy_evaluation(policy, gamma, theta, V, transition_prob)\n",
    "policy, policy_stable = policy_improvement(policy, V, transition_prob, gamma)\n",
    "\n",
    "print(f\"Value Function: {V}\")\n",
    "print(f\"Policy Stable: {policy_stable}\")\n",
    "print(f\"Policy: {policy}\")\n"
   ]
  },
  {
   "cell_type": "code",
   "execution_count": null,
   "id": "92b5204d",
   "metadata": {},
   "outputs": [],
   "source": [
    "v_array=np.array(V).reshape(5,5)\n",
    "sns.heatmap(v_array,annot=True,fmt='.2f',cbar=False);"
   ]
  },
  {
   "cell_type": "code",
   "execution_count": null,
   "id": "85bb58fa",
   "metadata": {},
   "outputs": [],
   "source": []
  },
  {
   "cell_type": "code",
   "execution_count": null,
   "id": "715f181f",
   "metadata": {},
   "outputs": [],
   "source": [
    "transition_prob[0]"
   ]
  },
  {
   "cell_type": "code",
   "execution_count": null,
   "id": "7e723e8d",
   "metadata": {},
   "outputs": [],
   "source": [
    "import numpy as np\n",
    "import random\n",
    "\n",
    "# Define number of states and initialize value function\n",
    "num_states = 25\n",
    "num_actions = 4\n",
    "V = np.random.rand(num_states) * 2  # Initialize V with random values between 0 and 2\n",
    "\n",
    "# Define gamma (discount factor) and theta (threshold for stopping criteria)\n",
    "gamma = 0.9\n",
    "theta = 0.01\n",
    "\n",
    "# Initialize policy with equal probabilities for each action\n",
    "policy = np.ones((num_states, num_actions)) / num_actions\n",
    "\n",
    "def policy_evaluation(policy, gamma, theta, V, transition_prob):\n",
    "    while True:\n",
    "        delta = 0\n",
    "        for state in range(num_states):\n",
    "            v = V[state]\n",
    "            if state == 4:\n",
    "                V[state] = 0\n",
    "            else:\n",
    "                V[state] = sum(\n",
    "                    policy[state][action] * (reward + gamma * V[next_state])\n",
    "                    for action, (next_state, reward, _, _) in enumerate(transition_prob[state])\n",
    "                )\n",
    "            delta = max(delta, abs(v - V[state]))\n",
    "        if delta < theta:\n",
    "            break\n",
    "    return V\n",
    "\n",
    "def policy_improvement(policy, V, transition_prob, gamma):\n",
    "    policy_stable = True\n",
    "    for state in range(num_states):\n",
    "        old_action = np.argmax(policy[state])\n",
    "        action_values = [\n",
    "            reward + gamma * V[next_state]\n",
    "            for next_state, reward, _, _ in transition_prob[state]\n",
    "        ]\n",
    "        best_action = np.argmax(action_values)\n",
    "        # Create a new deterministic policy for this state\n",
    "        new_policy = np.zeros(num_actions)\n",
    "        new_policy[best_action] = 1.0\n",
    "        policy[state] = new_policy\n",
    "        if old_action != best_action:\n",
    "            policy_stable = False\n",
    "    return policy, policy_stable\n",
    "\n",
    "# Run policy iteration\n",
    "policy_stable = False\n",
    "while not policy_stable:\n",
    "    V = policy_evaluation(policy, gamma, theta, V, transition_prob)\n",
    "    policy, policy_stable = policy_improvement(policy, V, transition_prob, gamma)\n",
    "\n",
    "print(f\"Value Function: {V}\")\n",
    "print(f\"Policy Stable: {policy_stable}\")\n",
    "print(f\"Optimal Policy: {policy}\")\n"
   ]
  },
  {
   "cell_type": "code",
   "execution_count": null,
   "id": "1f7dc2c9",
   "metadata": {},
   "outputs": [],
   "source": [
    "v_array=np.array(V).reshape(5,5)\n",
    "sns.heatmap(v_array,annot=True,fmt='.2f',cbar=False);"
   ]
  },
  {
   "cell_type": "code",
   "execution_count": null,
   "id": "b6ae9536",
   "metadata": {},
   "outputs": [],
   "source": []
  },
  {
   "cell_type": "code",
   "execution_count": null,
   "id": "964f9514",
   "metadata": {},
   "outputs": [],
   "source": []
  },
  {
   "cell_type": "code",
   "execution_count": null,
   "id": "d70b5bbf",
   "metadata": {},
   "outputs": [],
   "source": [
    "for action, (next_state, reward, _, _) in enumerate(transition_prob[state]):\n",
    "    print((next_state, reward, _, _))"
   ]
  },
  {
   "cell_type": "code",
   "execution_count": null,
   "id": "a0c7accd",
   "metadata": {},
   "outputs": [],
   "source": []
  }
 ],
 "metadata": {
  "kernelspec": {
   "display_name": "Python 3 (ipykernel)",
   "language": "python",
   "name": "python3"
  },
  "language_info": {
   "codemirror_mode": {
    "name": "ipython",
    "version": 3
   },
   "file_extension": ".py",
   "mimetype": "text/x-python",
   "name": "python",
   "nbconvert_exporter": "python",
   "pygments_lexer": "ipython3",
   "version": "3.12.3"
  }
 },
 "nbformat": 4,
 "nbformat_minor": 5
}
